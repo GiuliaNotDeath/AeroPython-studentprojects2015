{
 "metadata": {
  "name": "",
  "signature": "sha256:571ba3b55aaf9240c7cdd03c682da6917d2b975591420a394eb1aad8a860bb7c"
 },
 "nbformat": 3,
 "nbformat_minor": 0,
 "worksheets": [
  {
   "cells": [
    {
     "cell_type": "heading",
     "level": 6,
     "metadata": {},
     "source": [
      "Content provided under a Creative Commons Attribution license, CC-BY 4.0; code under MIT license. (c)2015 Michael J. Carter"
     ]
    },
    {
     "cell_type": "heading",
     "level": 5,
     "metadata": {},
     "source": [
      "May 6, 2015"
     ]
    },
    {
     "cell_type": "heading",
     "level": 1,
     "metadata": {},
     "source": [
      "Further Study of Simple Panel Methods"
     ]
    },
    {
     "cell_type": "heading",
     "level": 2,
     "metadata": {},
     "source": [
      "Introduction"
     ]
    },
    {
     "cell_type": "markdown",
     "metadata": {},
     "source": [
      "The project will build on the work done in [Lessons 8 - 11](https://github.com/barbagroup/AeroPython) of AeroPython and investigate other simple panel methods. First, this project reviews work done primarly in [Lesson 10](https://github.com/barbagroup/AeroPython/blob/master/lessons/10_Lesson10_sourcePanelMethod.ipynb) where code for simple source only panel method was developed. Sources were allowed to vary in stregth from panel to panel and a flow tangency boundry condition was applied at each panel control point, $u_n=0$ at $(x_{c_i},y_{c_i})$.\n",
      "\n",
      "Using similar methods a simple panel code will be developed for a constant strength (1) vortex sheet and (2) doublet sheet. The vortices and doublets will be allowed to vary from panel to panel and the same flow tangency condition will be applied as in the source panel method. \n",
      "\n",
      "A couple of notes. First, all these methods are performed with an angle of attack of zero. Non-zero angles of attack for the source panel method (confirmed) and other proposed panel methods (assumed) will produce and error at the trailing edge of the airfoil and require the additon of a kutta condition in order to reconcile this error. Second, the NACA0012 symmetric airfoil will be used for all panel methods under consideration in this project.\n",
      "\n",
      "Finally, the drag for each method will be computed for a set of different numbers of panels $N = 10, 20, 30, 40, 50, 100, 200, 500, 1000$. The drag will be compared to the expected value of $D = 0$ and used a measure of error for each method. The errors will then be compared to see if any one method holds a accuracy advantage over the other."
     ]
    },
    {
     "cell_type": "code",
     "collapsed": false,
     "input": [
      "import math\n",
      "import numpy\n",
      "from scipy import integrate\n",
      "from matplotlib import pyplot"
     ],
     "language": "python",
     "metadata": {},
     "outputs": [],
     "prompt_number": 1
    },
    {
     "cell_type": "markdown",
     "metadata": {},
     "source": [
      "The airfoil file comes from the [Airfoil Tools](http://airfoiltools.com/airfoil/details?airfoil=n0012-il) website and it contains a set of coordinates for the standard NACA0012 symmetric profile airfoil."
     ]
    },
    {
     "cell_type": "code",
     "collapsed": false,
     "input": [
      "# reads of the geometry from a data file\n",
      "with open ('./resources/naca0012.dat') as file_name:\n",
      "    x, y = numpy.loadtxt(file_name, dtype=float, delimiter='\\t', unpack=True)\n",
      "\n",
      "# plots the geometry\n",
      "%matplotlib inline\n",
      "\n",
      "val_x, val_y = 0.1, 1.0\n",
      "x_min, x_max = x.min(), x.max()\n",
      "y_min, y_max = y.min(), y.max()\n",
      "x_start, x_end = x_min-val_x*(x_max-x_min), x_max+val_x*(x_max-x_min)\n",
      "y_start, y_end = y_min-val_y*(y_max-y_min), y_max+val_y*(y_max-y_min)\n",
      "\n",
      "size = 10\n",
      "pyplot.figure(figsize=(size, (y_end-y_start)/(x_end-x_start)*size))\n",
      "pyplot.grid(True)\n",
      "pyplot.xlabel('x', fontsize=16)\n",
      "pyplot.ylabel('y', fontsize=16)\n",
      "pyplot.xlim(x_start, x_end)\n",
      "pyplot.ylim(y_start, y_end)\n",
      "pyplot.plot(x, y, color='k', linestyle='-', linewidth=2);"
     ],
     "language": "python",
     "metadata": {},
     "outputs": [
      {
       "metadata": {},
       "output_type": "display_data",
       "png": "[encoded data removed]",
       "text": [
        "<matplotlib.figure.Figure at 0xf4d7b38>"
       ]
      }
     ],
     "prompt_number": 2
    },
    {
     "cell_type": "heading",
     "level": 2,
     "metadata": {},
     "source": [
      "Panel Class and Discretization of Panels from Airfoil Data"
     ]
    },
    {
     "cell_type": "markdown",
     "metadata": {},
     "source": [
      "The panel class from [Lesson 10](https://github.com/barbagroup/AeroPython/blob/master/lessons/10_Lesson10_sourcePanelMethod.ipynb) is used in this project along with the define panels function, from the same lesson, in order to discretize the NACA0012 symmetric profile airfoil into N panels. The discretization has a higher resolution at the leading and trailing edges of the airfoil."
     ]
    },
    {
     "cell_type": "code",
     "collapsed": false,
     "input": [
      "class Panel:\n",
      "    \"\"\"Contains information related to a panel.\"\"\"\n",
      "    def __init__(self, xa, ya, xb, yb):\n",
      "        \"\"\"Creates a panel.\n",
      "        \n",
      "        Arguments\n",
      "        ---------\n",
      "        xa, ya -- Cartesian coordinates of the first end-point.\n",
      "        xb, yb -- Cartesian coordinates of the second end-point.\n",
      "        \"\"\"\n",
      "        self.xa, self.ya = xa, ya\n",
      "        self.xb, self.yb = xb, yb\n",
      "        \n",
      "        self.xc, self.yc = (xa+xb)/2, (ya+yb)/2\n",
      "        self.length = math.sqrt((xb-xa)**2+(yb-ya)**2)\n",
      "        \n",
      "        # orientation of the panel (angle between x-axis and panel's normal)\n",
      "        if xb-xa <= 0.:\n",
      "            self.beta = math.acos((yb-ya)/self.length)\n",
      "        elif xb-xa > 0.:\n",
      "            self.beta = math.pi + math.acos(-(yb-ya)/self.length)\n",
      "        \n",
      "        # location of the panel\n",
      "        if self.beta <= math.pi:\n",
      "            self.loc = 'upper'\n",
      "        else:\n",
      "            self.loc = 'lower'\n",
      "        \n",
      "        self.strength = 0.\n",
      "        self.vt = 0.\n",
      "        self.cp = 0."
     ],
     "language": "python",
     "metadata": {},
     "outputs": [],
     "prompt_number": 3
    },
    {
     "cell_type": "code",
     "collapsed": false,
     "input": [
      "def define_panels(x, y, N):\n",
      "    \"\"\"Discretizes the geometry into panels using the 'cosine' method.\n",
      "    \n",
      "    Arguments\n",
      "    ---------\n",
      "    x, y -- Cartesian coordinates of the geometry (1D arrays).\n",
      "    N - number of panels.\n",
      "    \n",
      "    Returns\n",
      "    -------\n",
      "    panels -- Numpy array of panels.\n",
      "    \"\"\"\n",
      "    R = (x.max()-x.min())/2\n",
      "    x_center = (x.max()+x.min())/2\n",
      "    x_circle = x_center + R*numpy.cos(numpy.linspace(0, 2*math.pi, N+1))\n",
      "    \n",
      "    x_ends = numpy.copy(x_circle)\n",
      "    y_ends = numpy.empty_like(x_ends)\n",
      "\n",
      "    x, y = numpy.append(x, x[0]), numpy.append(y, y[0])\n",
      "    \n",
      "    # computes the y-coordinate of end-points\n",
      "    I = 0\n",
      "    for i in range(N):\n",
      "        while I < len(x)-1:\n",
      "            if (x[I] <= x_ends[i] <= x[I+1]) or (x[I+1] <= x_ends[i] <= x[I]):\n",
      "                break\n",
      "            else:\n",
      "                I += 1\n",
      "        a = (y[I+1]-y[I])/(x[I+1]-x[I])\n",
      "        b = y[I+1] - a*x[I+1]\n",
      "        y_ends[i] = a*x_ends[i] + b\n",
      "    y_ends[N] = y_ends[0]\n",
      "    \n",
      "    panels = numpy.empty(N, dtype=object)\n",
      "    for i in range(N):\n",
      "        panels[i] = Panel(x_ends[i], y_ends[i], x_ends[i+1], y_ends[i+1])\n",
      "    \n",
      "    return panels"
     ],
     "language": "python",
     "metadata": {},
     "outputs": [],
     "prompt_number": 4
    },
    {
     "cell_type": "code",
     "collapsed": false,
     "input": [
      "# discretizes the geometry into panels\n",
      "N = 60\n",
      "panels = define_panels(x, y, N)\n",
      "panels_source = define_panels(x, y, N)\n",
      "panels_vortex = define_panels(x, y, N)\n",
      "panels_doublet = define_panels(x, y, N)\n",
      "\n",
      "# plots the geometry and the panels\n",
      "val_x, val_y = 0.1, 1.0\n",
      "x_min, x_max = min(panel.xa for panel in panels), max(panel.xa for panel in panels)\n",
      "y_min, y_max = min(panel.ya for panel in panels), max(panel.ya for panel in panels)\n",
      "x_start, x_end = x_min-val_x*(x_max-x_min), x_max+val_x*(x_max-x_min)\n",
      "y_start, y_end = y_min-val_y*(y_max-y_min), y_max+val_y*(y_max-y_min)\n",
      "\n",
      "size = 10\n",
      "pyplot.figure(figsize=(size, (y_end-y_start)/(x_end-x_start)*size))\n",
      "pyplot.grid(True)\n",
      "pyplot.xlabel('x', fontsize=16)\n",
      "pyplot.ylabel('y', fontsize=16)\n",
      "pyplot.xlim(x_start, x_end)\n",
      "pyplot.ylim(y_start, y_end)\n",
      "pyplot.plot(x, y, color='k', linestyle='-', linewidth=2)\n",
      "pyplot.plot(numpy.append([panel.xa for panel in panels_source], panels_source[0].xa), \n",
      "         numpy.append([panel.ya for panel in panels_source], panels_source[0].ya), \n",
      "         linestyle='-', linewidth=1, marker='o', markersize=6, color='#CD2305');"
     ],
     "language": "python",
     "metadata": {},
     "outputs": [
      {
       "metadata": {},
       "output_type": "display_data",
       "png": "[encoded data removed]",
       "text": [
        "<matplotlib.figure.Figure at 0xf23cc88>"
       ]
      }
     ],
     "prompt_number": 5
    },
    {
     "cell_type": "heading",
     "level": 2,
     "metadata": {},
     "source": [
      "Freestream Class"
     ]
    },
    {
     "cell_type": "markdown",
     "metadata": {},
     "source": [
      "As stated previously, the NACA0012 airfoil will be summersed in a freestream with zero angle of attack. The freeestream class from [Lesson 10](https://github.com/barbagroup/AeroPython/blob/master/lessons/10_Lesson10_sourcePanelMethod.ipynb) is used."
     ]
    },
    {
     "cell_type": "code",
     "collapsed": false,
     "input": [
      "class Freestream:\n",
      "    \"\"\"Freestream conditions.\"\"\"\n",
      "    def __init__(self, u_inf=1.0, alpha=0.0):\n",
      "        \"\"\"Sets the freestream conditions.\n",
      "        \n",
      "        Arguments\n",
      "        ---------\n",
      "        u_inf -- Farfield speed (default 1.0).\n",
      "        alpha -- Angle of attack in degrees (default 0.0).\n",
      "        \"\"\"\n",
      "        self.u_inf = u_inf\n",
      "        self.alpha = alpha*math.pi/180"
     ],
     "language": "python",
     "metadata": {},
     "outputs": [],
     "prompt_number": 6
    },
    {
     "cell_type": "code",
     "collapsed": false,
     "input": [
      "# defines and creates the object freestream\n",
      "u_inf = 1.0\n",
      "alpha = 0.0\n",
      "freestream = Freestream(u_inf, alpha)"
     ],
     "language": "python",
     "metadata": {},
     "outputs": [],
     "prompt_number": 7
    },
    {
     "cell_type": "heading",
     "level": 2,
     "metadata": {},
     "source": [
      "Flow Tangency Boundary Conditions"
     ]
    },
    {
     "cell_type": "markdown",
     "metadata": {},
     "source": [
      "The flow-tangency condition is enforced on each *control point*. This causes the body, defined by the panels, to behave roughly as a dividing streameline. For each panel $i$, set $u_n=0$ at $(x_{c_i},y_{c_i})$:\n",
      "\n",
      "\\begin{equation}\n",
      "u_{n_i} = \\frac{\\partial}{\\partial n_i}\\left\\lbrace \\phi\\left(x_{c_i},y_{c_i}\\right) \\right\\rbrace = 0\n",
      "\\end{equation}"
     ]
    },
    {
     "cell_type": "heading",
     "level": 5,
     "metadata": {},
     "source": [
      "Potential Function for a Source Sheet Panel Method"
     ]
    },
    {
     "cell_type": "markdown",
     "metadata": {},
     "source": [
      "As shown in [Lessons 8 - 10](https://github.com/barbagroup/AeroPython) the potential function for the source sheet panel method, with varying source strength from panel to panel, is given by superpostion of the freestream conditions and the summation of all source sheets from $j = 1$ to $j = N$:\n",
      "\n",
      "\\begin{equation}\n",
      "\\phi\\left(x_{c_i},y_{c_i}\\right) = V_\\infty x_{c_i} \\cos \\alpha + V_\\infty y_{c_i} \\sin \\alpha \\\\\n",
      "+ \\sum_{j=1}^N \\frac{\\sigma_j}{2\\pi} \\int_j \\ln \\left(\\sqrt{(x_{c_i}-x_j(s_j))^2+(y_{c_i}-y_j(s_j))^2} \\right) {\\rm d}s_j\n",
      "\\end{equation}"
     ]
    },
    {
     "cell_type": "markdown",
     "metadata": {},
     "source": [
      "Applying flow tangency condition for each panel $i$ yields the following. The term added is to reflect the impact of a source sheet on itself.\n",
      "\n",
      "\n",
      "\n",
      "\\begin{equation}\n",
      "0 = V_\\infty \\cos \\left(\\alpha-\\beta_i\\right) + \\frac{\\sigma_i}{2} \\\\\n",
      "+ \\sum_{j=1,j\\neq i}^N \\frac{\\sigma_j}{2\\pi} \\int_j \\frac{\\partial}{\\partial n_i} \\ln \\left(\\sqrt{(x_{c_i}-x_j(s_j))^2+(y_{c_i}-y_j(s_j))^2} \\right) {\\rm d}s_j\n",
      "\\end{equation}"
     ]
    },
    {
     "cell_type": "markdown",
     "metadata": {},
     "source": [
      "Where:\n",
      "\n",
      "\\begin{equation}\n",
      "\\frac{\\partial}{\\partial n_i} \\ln \\left(\\sqrt{(x_{c_i}-x_j(s_j))^2+(y_{c_i}-y_j(s_j))^2} \\right) = \\frac{\\left(x_{c_i}-x_j\\right)\\frac{\\partial x_{c_i}}{\\partial n_i} + \\left(y_{c_i}-y_j\\right)\\frac{\\partial y_{c_i}}{\\partial n_i}}{\\left(x_{c_i}-x_j\\right)^2 + \\left(x_{c_i}-x_j\\right)^2}\n",
      "\\end{equation}\n",
      "\n",
      "With:\n",
      "\n",
      "\\begin{equation}\n",
      "\\frac{\\partial x_{c_i}}{\\partial n_i} = \\cos \\beta_i \\quad\\text{and} \\quad\n",
      "\\frac{\\partial y_{c_i}}{\\partial n_i} = \\sin \\beta_i\n",
      "\\end{equation}"
     ]
    },
    {
     "cell_type": "markdown",
     "metadata": {},
     "source": [
      "\\begin{equation}\n",
      "x_j(s_j) = x_{b_j} - s_j \\sin \\beta_j\n",
      "\\end{equation}\n",
      "\n",
      "\\begin{equation}\n",
      "y_j(s_j) = y_{b_j} + s_j \\cos \\beta_j\n",
      "\\end{equation}"
     ]
    },
    {
     "cell_type": "heading",
     "level": 5,
     "metadata": {},
     "source": [
      "Potential Function for a Vortex Sheet Panel Method"
     ]
    },
    {
     "cell_type": "markdown",
     "metadata": {},
     "source": [
      "A similar potential function for the vortex sheet panel method, with varying vortex strength from panel to panel, can be derived using the steps outlined above and information from [Lesson 11](https://github.com/barbagroup/AeroPython/blob/master/lessons/11_Lesson11_vortexSourcePanelMethod.ipynb): \n",
      "\n",
      "\\begin{equation}\n",
      "\\phi\\left(x_{c_i},y_{c_i}\\right) = V_\\infty x_{c_i} \\cos \\alpha + V_\\infty y_{c_i} \\sin \\alpha \\\\\n",
      "- \\sum_{j=1}^N \\frac{\\gamma_j}{2\\pi} \\int_j \\tan^{-1} \\left(\\frac{y_{c_i}-y_j(s_j)}{x_{c_i}-x_j(s_j)}\\right) {\\rm d}s_j\n",
      "\\end{equation}"
     ]
    },
    {
     "cell_type": "markdown",
     "metadata": {},
     "source": [
      "Applying flow tangency condition for each panel  $i$  yields the following. There is  no term added since the impact of a vortex sheet on itself is zero:\n",
      "\n",
      "\n",
      "\n",
      "\\begin{equation}\n",
      "0 = V_\\infty \\cos \\left(\\alpha-\\beta_i\\right) \\\\\n",
      "- \\sum_{j=1,j\\neq i}^N \\frac{\\gamma_j}{2\\pi} \\int_j \\frac{\\partial}{\\partial n_i} \\tan^{-1} \\left(\\frac{y_{c_i}-y_j(s_j)}{x_{c_i}-x_j(s_j)}\\right) {\\rm d}s_j\n",
      "\\end{equation}"
     ]
    },
    {
     "cell_type": "markdown",
     "metadata": {},
     "source": [
      "Where:\n",
      "\n",
      "\\begin{equation}\n",
      "\\frac{\\partial}{\\partial n_i} \\tan^{-1} \\left(\\frac{y_{c_i}-y_j(s_j)}{x_{c_i}-x_j(s_j)}\\right)= \\frac{\\left(x_{c_i}-x_j\\right)\\frac{\\partial y_{c_i}}{\\partial n_i} - \\left(y_{c_i}-y_j\\right)\\frac{\\partial x_{c_i}}{\\partial n_i}}{\\left(x_{c_i}-x_j\\right)^2 + \\left(y_{c_i}-y_j\\right)^2}\n",
      "\\end{equation}\n",
      "\n",
      "With:\n",
      "\n",
      "\\begin{equation}\n",
      "\\frac{\\partial x_{c_i}}{\\partial n_i} = \\cos \\beta_i \\quad\\text{and} \\quad\n",
      "\\frac{\\partial y_{c_i}}{\\partial n_i} = \\sin \\beta_i\n",
      "\\end{equation}"
     ]
    },
    {
     "cell_type": "markdown",
     "metadata": {},
     "source": [
      "\\begin{equation}\n",
      "x_j(s_j) = x_{b_j} - s_j \\sin \\beta_j\n",
      "\\end{equation}\n",
      "\n",
      "\\begin{equation}\n",
      "y_j(s_j) = y_{b_j} + s_j \\cos \\beta_j\n",
      "\\end{equation}"
     ]
    },
    {
     "cell_type": "heading",
     "level": 5,
     "metadata": {},
     "source": [
      "Potential Function for a Doublet Sheet Panel Method"
     ]
    },
    {
     "cell_type": "markdown",
     "metadata": {},
     "source": [
      "A similar potential function for the doublet sheet panel method, with varying doublet strength from panel to panel, can be derived using the steps outlined above and information from *Low Speed Aerodynamics*(Chapters 9 - 11) by Katz, Joseph, and Allen Plotkin: \n",
      "\n",
      "\\begin{equation}\n",
      "\\phi\\left(x_{c_i},y_{c_i}\\right) = V_\\infty x_{c_i} \\cos \\alpha + V_\\infty y_{c_i} \\sin \\alpha \\\\\n",
      "- \\sum_{j=1}^N \\frac{\\kappa_j}{2\\pi} \\int_j \\frac{y_{c_i}-y_j(s_j)}{(x_{c_i}-x_j(s_j))^2+(y_{c_i}-y_j(s_j))^2}{\\rm d}s_j\n",
      "\\end{equation}"
     ]
    },
    {
     "cell_type": "markdown",
     "metadata": {},
     "source": [
      "Applying flow tangency condition for each panel  $i$  yields the following. The effect of the doublet sheet on itself is taken from *Low Speed Aerodynamics*(Chapters 9 - 11) by Katz, Joseph, and Allen Plotkin where $l_i$ represents the length of panel $i$:\n",
      "\n",
      "\n",
      "\n",
      "\\begin{equation}\n",
      "0 = V_\\infty \\cos \\left(\\alpha-\\beta_i\\right) -\\frac{2\\kappa_i}{l_i\\pi}\\\\\n",
      "- \\sum_{j=1,j\\neq i}^N \\frac{\\kappa_j}{2\\pi} \\int_j \\frac{\\partial}{\\partial n_i} \\frac{y_{c_i}-y_j(s_j)}{(x_{c_i}-x_j(s_j))^2+(y_{c_i}-y_j(s_j))^2} {\\rm d}s_j\n",
      "\\end{equation}"
     ]
    },
    {
     "cell_type": "markdown",
     "metadata": {},
     "source": [
      "Where:\n",
      "\n",
      "\\begin{equation}\n",
      "\\frac{\\partial}{\\partial n_i} \\frac{y_{c_i}-y_j(s_j)}{(x_{c_i}-x_j(s_j))^2+(y_{c_i}-y_j(s_j))^2} = \\\\\n",
      "\\frac{- \\left(2\\left(x_{c_i}-x_j\\right)\\left(y_{c_i}-y_j\\right)\\right)\\frac{\\partial x_{c_i}}{\\partial n_i} + \\left(\\left(x_{c_i}-x_j\\right)^2-\\left(y_{c_i}-y_j\\right)^2\\right)\\frac{\\partial y_{c_i}}{\\partial n_i}}{\\left(\\left(x_{c_i}-x_j\\right)^2 + \\left(y_{c_i}-y_j\\right)^2\\right)^2}\n",
      "\\end{equation}\n",
      "\n",
      "With:\n",
      "\n",
      "\\begin{equation}\n",
      "\\frac{\\partial x_{c_i}}{\\partial n_i} = \\cos\\beta_i \\quad\\text{and} \\quad\n",
      "\\frac{\\partial y_{c_i}}{\\partial n_i} = \\sin \\beta_i\n",
      "\\end{equation}"
     ]
    },
    {
     "cell_type": "markdown",
     "metadata": {},
     "source": [
      "\\begin{equation}\n",
      "x_j(s_j) = x_{b_j} - s_j \\sin \\beta_j\n",
      "\\end{equation}\n",
      "\n",
      "\\begin{equation}\n",
      "y_j(s_j) = y_{b_j} + s_j \\cos \\beta_j\n",
      "\\end{equation}"
     ]
    },
    {
     "cell_type": "heading",
     "level": 5,
     "metadata": {},
     "source": [
      "Integral Functions"
     ]
    },
    {
     "cell_type": "markdown",
     "metadata": {},
     "source": [
      "Next we define two integral functions based off of the discussion of the previous sections. Due to their similarity, one integral function is used for the vortex and source sheet cases. The doublet panel has its own integral function:"
     ]
    },
    {
     "cell_type": "code",
     "collapsed": false,
     "input": [
      "def integral(x, y, panel, dxdz, dydz):\n",
      "    \"\"\"Evaluates the contribution of a panel at one point.\n",
      "    \n",
      "    Arguments\n",
      "    ---------\n",
      "    x, y -- Cartesian coordinates of the point.\n",
      "    panel -- panel which contribution is evaluated.\n",
      "    dxdz -- derivative of x in the z-direction.\n",
      "    dydz -- derivative of y in the z-direction.\n",
      "    \n",
      "    Returns\n",
      "    -------\n",
      "    Integral over the panel of the influence at one point.\n",
      "    \"\"\"\n",
      "    def func(s):\n",
      "        return ( ((x - (panel.xa - math.sin(panel.beta)*s))*dxdz\n",
      "                  +(y - (panel.ya + math.cos(panel.beta)*s))*dydz)\n",
      "                / ((x - (panel.xa - math.sin(panel.beta)*s))**2\n",
      "                   +(y - (panel.ya + math.cos(panel.beta)*s))**2) )\n",
      "    return integrate.quad(lambda s:func(s), 0., panel.length)[0]"
     ],
     "language": "python",
     "metadata": {},
     "outputs": [],
     "prompt_number": 8
    },
    {
     "cell_type": "code",
     "collapsed": false,
     "input": [
      "def integral_doublet(x, y, panel, dxdz, dydz):\n",
      "    \"\"\"Evaluates the contribution of a panel at one point.\n",
      "    \n",
      "    Arguments\n",
      "    ---------\n",
      "    x, y -- Cartesian coordinates of the point.\n",
      "    panel -- panel which contribution is evaluated.\n",
      "    dxdz -- derivative of x in the z-direction.\n",
      "    dydz -- derivative of y in the z-direction.\n",
      "    \n",
      "    Returns\n",
      "    -------\n",
      "    Integral over the panel of the influence at one point.\n",
      "    \"\"\"\n",
      "    \n",
      "    def func(s):\n",
      "        return (((-2.0*(x - (panel.xa - math.sin(panel.beta)*s))*(y - (panel.ya + math.cos(panel.beta)*s))*dxdz) \n",
      "                 + (((x - (panel.xa - math.sin(panel.beta)*s))**2 - (y - (panel.ya + math.cos(panel.beta)*s))**2)*dydz))\n",
      "                / (((x - (panel.xa - math.sin(panel.beta)*s))**2 + (y - (panel.ya + math.cos(panel.beta)*s))**2)**2))\n",
      "    return integrate.quad(lambda s:func(s), 0., panel.length)[0]"
     ],
     "language": "python",
     "metadata": {},
     "outputs": [],
     "prompt_number": 9
    },
    {
     "cell_type": "heading",
     "level": 2,
     "metadata": {},
     "source": [
      "Building the linear system"
     ]
    },
    {
     "cell_type": "markdown",
     "metadata": {},
     "source": [
      "From the previous section we can see we have a linear system that needs to be solved. Depending on the case it will take the form of:\n",
      "\n",
      "\\begin{equation}[A_n][\\sigma] = [b].\\end{equation}\n",
      "\\begin{equation}[B_n][\\gamma] = [b].\\end{equation}\n",
      "\\begin{equation}[D_n][\\kappa] = [b].\\end{equation}"
     ]
    },
    {
     "cell_type": "heading",
     "level": 5,
     "metadata": {},
     "source": [
      "Building the Source, Vortex and Doublet Normal Matrices"
     ]
    },
    {
     "cell_type": "markdown",
     "metadata": {},
     "source": [
      "The matrices, $A_n$, $B_n$ and $D_n$ are built using the following functions:"
     ]
    },
    {
     "cell_type": "code",
     "collapsed": false,
     "input": [
      "def source_matrix(panels):\n",
      "    \"\"\"Builds the source matrix.\n",
      "    \n",
      "    Arguments\n",
      "    ---------\n",
      "    panels -- array of panels.\n",
      "    \n",
      "    Returns\n",
      "    -------\n",
      "    An -- NxN matrix (N is the number of panels).\n",
      "    \"\"\"\n",
      "    An = numpy.empty((panels.size, panels.size), dtype=float)\n",
      "    numpy.fill_diagonal(An, 0.5)\n",
      "    \n",
      "    for i, p_i in enumerate(panels):\n",
      "        for j, p_j in enumerate(panels):\n",
      "            if i != j:\n",
      "                An[i,j] = 0.5/math.pi*integral(p_i.xc, p_i.yc, \n",
      "                                              p_j, \n",
      "                                              math.cos(p_i.beta), math.sin(p_i.beta))\n",
      "    \n",
      "    return An"
     ],
     "language": "python",
     "metadata": {},
     "outputs": [],
     "prompt_number": 10
    },
    {
     "cell_type": "code",
     "collapsed": false,
     "input": [
      "def vortex_matrix(panels):\n",
      "    \"\"\"Builds the vortex matrix.\n",
      "    \n",
      "    Arguments\n",
      "    ---------\n",
      "    panels - array of panels.\n",
      "    \n",
      "    Returns\n",
      "    -------\n",
      "    Bn -- NxN matrix (N is the number of panels).\n",
      "    \"\"\"\n",
      "    \n",
      "    Bn = numpy.empty((panels.size, panels.size), dtype=float)\n",
      "    numpy.fill_diagonal(Bn, 0.0)\n",
      "    \n",
      "    for i, p_i in enumerate(panels):\n",
      "        for j, p_j in enumerate(panels):\n",
      "            if i != j:\n",
      "                Bn[i,j] = -0.5/math.pi*integral(p_i.xc, p_i.yc, \n",
      "                                             p_j, \n",
      "                                             math.sin(p_i.beta), -math.cos(p_i.beta))\n",
      "    \n",
      "    return Bn"
     ],
     "language": "python",
     "metadata": {},
     "outputs": [],
     "prompt_number": 11
    },
    {
     "cell_type": "code",
     "collapsed": false,
     "input": [
      "def doublet_matrix(panels):\n",
      "    \"\"\"Builds the vortex matrix.\n",
      "    \n",
      "    Arguments\n",
      "    ---------\n",
      "    panels - array of panels.\n",
      "    \n",
      "    Returns\n",
      "    -------\n",
      "    Dn -- NxN matrix (N is the number of panels).\n",
      "    \"\"\"\n",
      "    \n",
      "    Dn = numpy.empty((panels.size, panels.size), dtype=float)\n",
      "    \n",
      "    for i, p_i in enumerate(panels):\n",
      "        for j, p_j in enumerate(panels):\n",
      "            if i != j:\n",
      "                Dn[i,j] = -0.5/math.pi*integral_doublet(p_i.xc, p_i.yc, \n",
      "                                             p_j, \n",
      "                                             math.cos(p_i.beta), math.sin(p_i.beta))\n",
      "                \n",
      "            else:\n",
      "                Dn[i,j] = -2.0/(numpy.pi*p_j.length)\n",
      "                \n",
      "    return Dn"
     ],
     "language": "python",
     "metadata": {},
     "outputs": [],
     "prompt_number": 12
    },
    {
     "cell_type": "code",
     "collapsed": false,
     "input": [
      "# builds the matrices\n",
      "An = source_matrix(panels_source)\n",
      "Bn = vortex_matrix(panels_vortex)\n",
      "Dn = doublet_matrix(panels_doublet)"
     ],
     "language": "python",
     "metadata": {},
     "outputs": [],
     "prompt_number": 13
    },
    {
     "cell_type": "heading",
     "level": 5,
     "metadata": {},
     "source": [
      "Building the RHS and Solving the Systems"
     ]
    },
    {
     "cell_type": "markdown",
     "metadata": {},
     "source": [
      "The RHS vector is built using the following function. Then the systems are solved and the strength at the control point of each panel is saved in the respective panel class. Depending on the case this is either $\\sigma_i$, $\\gamma_i$ or $\\kappa_i$:"
     ]
    },
    {
     "cell_type": "code",
     "collapsed": false,
     "input": [
      "def build_rhs(panels, freestream):\n",
      "    \"\"\"Builds the RHS of the linear system.\n",
      "    \n",
      "    Arguments\n",
      "    ---------\n",
      "    panels -- array of panels.\n",
      "    freestream -- farfield conditions.\n",
      "    \n",
      "    Returns\n",
      "    -------\n",
      "    b -- 1D array ((N+2)x1, N is the number of panels).\n",
      "    \"\"\"\n",
      "    N = panels.size\n",
      "    b = numpy.empty(N,dtype=float)\n",
      "    \n",
      "    for i, panel in enumerate(panels):\n",
      "        b[i] = - freestream.u_inf*math.cos(freestream.alpha - panel.beta)\n",
      "        \n",
      "    return b"
     ],
     "language": "python",
     "metadata": {},
     "outputs": [],
     "prompt_number": 14
    },
    {
     "cell_type": "code",
     "collapsed": false,
     "input": [
      "# computes the rhs\n",
      "b = build_rhs(panels, freestream)\n",
      "\n",
      "# solves the linear system\n",
      "sigma = numpy.linalg.solve(An, b)\n",
      "gamma = numpy.linalg.solve(Bn, b)\n",
      "kappa = numpy.linalg.solve(Dn, b)\n",
      "\n",
      "# set strength for each set of panels\n",
      "for i, panel in enumerate(panels_source):\n",
      "    panel.strength = sigma[i]\n",
      "    \n",
      "for i, panel in enumerate(panels_vortex):\n",
      "    panel.strength = gamma[i]\n",
      "    \n",
      "for i, panel in enumerate(panels_doublet):\n",
      "    panel.strength = kappa[i]"
     ],
     "language": "python",
     "metadata": {},
     "outputs": [],
     "prompt_number": 15
    },
    {
     "cell_type": "heading",
     "level": 2,
     "metadata": {},
     "source": [
      "Tangential Velocity and Surface Pressure Coefficient"
     ]
    },
    {
     "cell_type": "markdown",
     "metadata": {},
     "source": [
      "From [Lesson 10](https://github.com/barbagroup/AeroPython/blob/master/lessons/10_Lesson10_sourcePanelMethod.ipynb), the pressure coefficient on panel $i$ is:\n",
      "\n",
      "\\begin{equation}C_{p_i} = 1-\\left(\\frac{u_{t_i}}{U_\\infty}\\right)^2\n",
      "\\end{equation}\n",
      "\n",
      "Where $u_{t_i}$ is the tangential component of the velocity at the center point of panel $i$."
     ]
    },
    {
     "cell_type": "heading",
     "level": 5,
     "metadata": {},
     "source": [
      "Calculating Tangential Velocity Matrices"
     ]
    },
    {
     "cell_type": "markdown",
     "metadata": {},
     "source": [
      "During the [Lesson 11 exerise](https://github.com/barbagroup/AeroPython/blob/master/lessons/11_Lesson11_Exercise.ipynb) the tangential velocity matrices for source and vortex sheets were derived Also derived were the relationships between the normal and tangential matrices for source and vortex sheets:\n",
      "\n",
      "\\begin{equation}\n",
      "A_t = B_n \\quad\\text{and} \\quad B_t = -A_n\n",
      "\\end{equation}"
     ]
    },
    {
     "cell_type": "markdown",
     "metadata": {},
     "source": [
      "To calculate $u_{t_i}$ at each *control point* for the doublet panel method the following equation is used:\n",
      "\n",
      "\\begin{equation}\n",
      "u_{t_i} = \\frac{\\partial}{\\partial t_i}\\left\\lbrace \\phi\\left(x_{c_i},y_{c_i}\\right) \\right\\rbrace\n",
      "\\end{equation}"
     ]
    },
    {
     "cell_type": "markdown",
     "metadata": {},
     "source": [
      "Once again, for doublet sheet panel method: \n",
      "\n",
      "\\begin{equation}\n",
      "\\phi\\left(x_{c_i},y_{c_i}\\right) = V_\\infty x_{c_i} \\cos \\alpha + V_\\infty y_{c_i} \\sin \\alpha \\\\\n",
      "+ \\sum_{j=1}^N \\frac{\\kappa_j}{2\\pi} \\int_j \\frac{y_{c_i}-y_j(s_j)}{(x_{c_i}-x_j(s_j))^2+(y_{c_i}-y_j(s_j))^2}{\\rm d}s_j\n",
      "\\end{equation}"
     ]
    },
    {
     "cell_type": "markdown",
     "metadata": {},
     "source": [
      "From *Low Speed Aerodynamics*(Chapters 9 - 11) by Katz, Joseph, and Allen Plotkin the impact of a doublet sheet on itslef in the tangential direction is zero, then: \n",
      "\n",
      "\n",
      "\\begin{equation}\n",
      "u_{t_i}  = V_\\infty \\cos \\left(\\alpha-\\beta_i\\right)\\\\\n",
      "+ \\sum_{j=1,j\\neq i}^N \\frac{\\kappa_j}{2\\pi} \\int_j \\frac{\\partial}{\\partial t_i} \\frac{y_{c_i}-y_j(s_j)}{(x_{c_i}-x_j(s_j))^2+(y_{c_i}-y_j(s_j))^2} {\\rm d}s_j\n",
      "\\end{equation}"
     ]
    },
    {
     "cell_type": "markdown",
     "metadata": {},
     "source": [
      "Where:\n",
      "\n",
      "\\begin{equation}\n",
      "\\frac{\\partial}{\\partial t_i} \\frac{y_{c_i}-y_j(s_j)}{(x_{c_i}-x_j(s_j))^2+(y_{c_i}-y_j(s_j))^2} = \\\\\n",
      "\\frac{- \\left(2\\left(x_{c_i}-x_j\\right)\\left(y_{c_i}-y_j\\right)\\right)\\frac{\\partial x_{c_i}}{\\partial t_i} + \\left(\\left(x_{c_i}-x_j\\right)^2-\\left(y_{c_i}-y_j\\right)^2\\right)\\frac{\\partial y_{c_i}}{\\partial t_i}}{\\left(\\left(x_{c_i}-x_j\\right)^2 + \\left(y_{c_i}-y_j\\right)^2\\right)^2}\n",
      "\\end{equation}\n",
      "\n",
      "With:\n",
      "\n",
      "\\begin{equation}\n",
      "\\frac{\\partial x_{c_i}}{\\partial t_i} = -\\sin\\beta_i \\quad\\text{and} \\quad\n",
      "\\frac{\\partial y_{c_i}}{\\partial t_i} = \\cos \\beta_i\n",
      "\\end{equation}"
     ]
    },
    {
     "cell_type": "markdown",
     "metadata": {},
     "source": [
      "\\begin{equation}\n",
      "x_j(s_j) = x_{b_j} - s_j \\sin \\beta_j\n",
      "\\end{equation}\n",
      "\n",
      "\\begin{equation}\n",
      "y_j(s_j) = y_{b_j} + s_j \\cos \\beta_j\n",
      "\\end{equation}"
     ]
    },
    {
     "cell_type": "markdown",
     "metadata": {},
     "source": [
      "A function to compute the tangential velocity matrix, $D_t$ is developed based on the calculations above. Then the matrices $A_t$, $B_t$ and $D_t$ are computed."
     ]
    },
    {
     "cell_type": "code",
     "collapsed": false,
     "input": [
      "def doublet_matrix_tangential(panels):\n",
      "    \"\"\"Builds the vortex matrix.\n",
      "    \n",
      "    Arguments\n",
      "    ---------\n",
      "    panels - array of panels.\n",
      "    \n",
      "    Returns\n",
      "    -------\n",
      "    Dt -- NxN matrix (N is the number of panels).\n",
      "    \"\"\"\n",
      "    \n",
      "    Dt = numpy.empty((panels.size, panels.size), dtype=float)\n",
      "    numpy.fill_diagonal(Dt, 0.0)\n",
      "    \n",
      "    for i, p_i in enumerate(panels):\n",
      "        for j, p_j in enumerate(panels):\n",
      "            if i != j:\n",
      "                Dt[i,j] = -0.5/math.pi*integral_doublet(p_i.xc, p_i.yc, \n",
      "                                             p_j, \n",
      "                                             -math.sin(p_i.beta), math.cos(p_i.beta))\n",
      "    \n",
      "    return Dt"
     ],
     "language": "python",
     "metadata": {},
     "outputs": [],
     "prompt_number": 16
    },
    {
     "cell_type": "code",
     "collapsed": false,
     "input": [
      "At = numpy.copy(Bn)\n",
      "Bt = -numpy.copy(An)\n",
      "Dt = doublet_matrix_tangential(panels_doublet)"
     ],
     "language": "python",
     "metadata": {},
     "outputs": [],
     "prompt_number": 17
    },
    {
     "cell_type": "heading",
     "level": 5,
     "metadata": {},
     "source": [
      "Calculating Tangential Velocity"
     ]
    },
    {
     "cell_type": "markdown",
     "metadata": {},
     "source": [
      "The follow function is used to compute the tangential velocity, $u_{t_i}$, at each *control point*, for the different panel methods:"
     ]
    },
    {
     "cell_type": "code",
     "collapsed": false,
     "input": [
      "def get_tangential_velocity(panels, T, freestream):\n",
      "    \"\"\"Computes the tangential velocity on the surface.\n",
      "    \n",
      "    Arguments\n",
      "    ---------\n",
      "    panels -- array of panels.\n",
      "    T -- tangential velocity matrix.\n",
      "    freestream -- farfield conditions.\n",
      "    \"\"\"\n",
      "   \n",
      "    N = panels.size\n",
      "    b = numpy.empty(N,dtype=float)\n",
      "    \n",
      "    for i, panel in enumerate(panels):\n",
      "        b[i] = freestream.u_inf*math.sin(freestream.alpha - panel.beta)\n",
      "    \n",
      "    var = numpy.array([panel.strength for panel in panels])\n",
      "    \n",
      "    vt = numpy.dot(T, var) + b\n",
      "    \n",
      "    for i, panel in enumerate(panels):\n",
      "        panel.vt = vt[i]"
     ],
     "language": "python",
     "metadata": {},
     "outputs": [],
     "prompt_number": 18
    },
    {
     "cell_type": "code",
     "collapsed": false,
     "input": [
      "# computes the tangential velocity at the control-point of each panel\n",
      "get_tangential_velocity(panels_source, At, freestream)\n",
      "get_tangential_velocity(panels_vortex, Bt, freestream)\n",
      "get_tangential_velocity(panels_doublet, Dt, freestream)"
     ],
     "language": "python",
     "metadata": {},
     "outputs": [],
     "prompt_number": 19
    },
    {
     "cell_type": "heading",
     "level": 5,
     "metadata": {},
     "source": [
      "Calculating the Pressure Coefficient"
     ]
    },
    {
     "cell_type": "markdown",
     "metadata": {},
     "source": [
      "The function below is used to compute the pressure coefficent, $C_p$, at each *control point*, for the different panel methods:"
     ]
    },
    {
     "cell_type": "code",
     "collapsed": false,
     "input": [
      "def get_pressure_coefficient(panels, freestream):\n",
      "    \"\"\"Computes the surface pressure coefficients.\n",
      "    \n",
      "    Arguments\n",
      "    ---------\n",
      "    panels -- array of panels.\n",
      "    freestream -- farfield conditions.\n",
      "    \"\"\"\n",
      "    for panel in panels:\n",
      "        panel.cp = 1.0 - (panel.vt/freestream.u_inf)**2"
     ],
     "language": "python",
     "metadata": {},
     "outputs": [],
     "prompt_number": 20
    },
    {
     "cell_type": "code",
     "collapsed": false,
     "input": [
      "# computes the surface pressure coefficients\n",
      "get_pressure_coefficient(panels_source, freestream)\n",
      "get_pressure_coefficient(panels_vortex, freestream)\n",
      "get_pressure_coefficient(panels_doublet, freestream)"
     ],
     "language": "python",
     "metadata": {},
     "outputs": [],
     "prompt_number": 21
    },
    {
     "cell_type": "heading",
     "level": 5,
     "metadata": {},
     "source": [
      "Theoretical Surface Pressure Coefficient"
     ]
    },
    {
     "cell_type": "markdown",
     "metadata": {},
     "source": [
      "Theoretical pressure coefficient values are provided for the NACA0012 airfoil in [NACA Report No.824](http://ntrs.nasa.gov/archive/nasa/casi.ntrs.nasa.gov/19930090976.pdf), available from the NASA web server (see p. 71). The reference was originally used in [Lesson 10](https://github.com/barbagroup/AeroPython/blob/master/lessons/10_Lesson10_sourcePanelMethod.ipynb):"
     ]
    },
    {
     "cell_type": "code",
     "collapsed": false,
     "input": [
      "voverVsquared=numpy.array([0, 0.64, 1.01, 1.241, 1.378, 1.402, 1.411, 1.411, 1.399, 1.378, 1.35, 1.288, 1.228, 1.166, 1.109, 1.044, 0.956, 0.906, 0])"
     ],
     "language": "python",
     "metadata": {},
     "outputs": [],
     "prompt_number": 22
    },
    {
     "cell_type": "code",
     "collapsed": false,
     "input": [
      "xtheo=numpy.array([0, 0.5, 1.25, 2.5, 5.0, 7.5, 10, 15, 20, 25, 30, 40, 50, 60, 70, 80, 90, 95, 100])\n",
      "xtheo = xtheo/100"
     ],
     "language": "python",
     "metadata": {},
     "outputs": [],
     "prompt_number": 23
    },
    {
     "cell_type": "heading",
     "level": 5,
     "metadata": {},
     "source": [
      "Comparison of Calculated and Theoretical Surface Pressure Coefficient"
     ]
    },
    {
     "cell_type": "markdown",
     "metadata": {},
     "source": [
      "The theoretical values of $C_p$ are compared to the computed values from the source, vortex and doublet panel methods:"
     ]
    },
    {
     "cell_type": "code",
     "collapsed": false,
     "input": [
      "# plots the surface pressure coefficient\n",
      "val_x, val_y = 0.1, 0.2\n",
      "x_min, x_max = min( panel.xa for panel in panels_source ), max( panel.xa for panel in panels_source )\n",
      "cp_min, cp_max = min( panel.cp for panel in panels_source ), max( panel.cp for panel in panels_source )\n",
      "x_start, x_end = x_min-val_x*(x_max-x_min), x_max+val_x*(x_max-x_min)\n",
      "y_start, y_end = cp_min-val_y*(cp_max-cp_min), cp_max+val_y*(cp_max-cp_min)\n",
      "\n",
      "pyplot.figure(figsize=(10, 6))\n",
      "pyplot.grid(True)\n",
      "pyplot.xlabel('x', fontsize=16)\n",
      "pyplot.ylabel('$C_p$', fontsize=16)\n",
      "pyplot.plot([panel.xc for panel in panels_source if panel.loc == 'upper'], \n",
      "         [panel.cp for panel in panels_source if panel.loc == 'upper'], \n",
      "         color='r', linewidth=1, marker='x', markersize=8)\n",
      "pyplot.plot([panel.xc for panel in panels_source if panel.loc == 'lower'], \n",
      "         [panel.cp for panel in panels_source if panel.loc == 'lower'], \n",
      "         color='b', linewidth=0, marker='d', markersize=6)\n",
      "pyplot.plot(xtheo, 1-voverVsquared, color='k', linestyle='--',linewidth=2)\n",
      "pyplot.legend(['upper', 'lower'], loc='best', prop={'size':14})\n",
      "pyplot.xlim(x_start, x_end)\n",
      "pyplot.ylim(y_start, y_end)\n",
      "pyplot.gca().invert_yaxis()\n",
      "pyplot.title('Source Panel Method - Number of panels : %d' % N);"
     ],
     "language": "python",
     "metadata": {},
     "outputs": [
      {
       "metadata": {},
       "output_type": "display_data",
       "png": "[encoded data removed]",
       "text": [
        "<matplotlib.figure.Figure at 0xf956eb8>"
       ]
      }
     ],
     "prompt_number": 24
    },
    {
     "cell_type": "code",
     "collapsed": false,
     "input": [
      "# plots the surface pressure coefficient\n",
      "val_x, val_y = 0.1, 0.2\n",
      "x_min, x_max = min( panel.xa for panel in panels_vortex ), max( panel.xa for panel in panels_vortex )\n",
      "cp_min, cp_max = min( panel.cp for panel in panels_vortex ), max( panel.cp for panel in panels_vortex )\n",
      "x_start, x_end = x_min-val_x*(x_max-x_min), x_max+val_x*(x_max-x_min)\n",
      "y_start, y_end = cp_min-val_y*(cp_max-cp_min), cp_max+val_y*(cp_max-cp_min)\n",
      "\n",
      "pyplot.figure(figsize=(10, 6))\n",
      "pyplot.grid(True)\n",
      "pyplot.xlabel('x', fontsize=16)\n",
      "pyplot.ylabel('$C_p$', fontsize=16)\n",
      "pyplot.plot([panel.xc for panel in panels_vortex if panel.loc == 'upper'], \n",
      "         [panel.cp for panel in panels_vortex if panel.loc == 'upper'], \n",
      "         color='r', linewidth=1, marker='x', markersize=8)\n",
      "pyplot.plot([panel.xc for panel in panels_vortex if panel.loc == 'lower'], \n",
      "         [panel.cp for panel in panels_vortex if panel.loc == 'lower'], \n",
      "         color='b', linewidth=0, marker='d', markersize=6)\n",
      "pyplot.plot(xtheo, 1-voverVsquared, color='k', linestyle='--',linewidth=2)\n",
      "pyplot.legend(['upper', 'lower'], loc='best', prop={'size':14})\n",
      "pyplot.xlim(x_start, x_end)\n",
      "pyplot.ylim(y_start, y_end)\n",
      "pyplot.gca().invert_yaxis()\n",
      "pyplot.title('Vortex Panel Method - Number of panels : %d' % N);"
     ],
     "language": "python",
     "metadata": {},
     "outputs": [
      {
       "metadata": {},
       "output_type": "display_data",
       "png": "[encoded data removed]",
       "text": [
        "<matplotlib.figure.Figure at 0xfa2af28>"
       ]
      }
     ],
     "prompt_number": 25
    },
    {
     "cell_type": "code",
     "collapsed": false,
     "input": [
      "# plots the surface pressure coefficient\n",
      "val_x, val_y = 0.1, 0.2\n",
      "x_min, x_max = min( panel.xa for panel in panels_doublet ), max( panel.xa for panel in panels_doublet )\n",
      "cp_min, cp_max = min( panel.cp for panel in panels_doublet ), max( panel.cp for panel in panels_doublet )\n",
      "x_start, x_end = x_min-val_x*(x_max-x_min), x_max+val_x*(x_max-x_min)\n",
      "y_start, y_end = cp_min-val_y*(cp_max-cp_min), cp_max+val_y*(cp_max-cp_min)\n",
      "\n",
      "pyplot.figure(figsize=(10, 6))\n",
      "pyplot.grid(True)\n",
      "pyplot.xlabel('x', fontsize=16)\n",
      "pyplot.ylabel('$C_p$', fontsize=16)\n",
      "pyplot.plot([panel.xc for panel in panels_doublet if panel.loc == 'upper'], \n",
      "         [panel.cp for panel in panels_doublet if panel.loc == 'upper'], \n",
      "         color='r', linewidth=1, marker='x', markersize=8)\n",
      "pyplot.plot([panel.xc for panel in panels_doublet if panel.loc == 'lower'], \n",
      "         [panel.cp for panel in panels_doublet if panel.loc == 'lower'], \n",
      "         color='b', linewidth=0, marker='d', markersize=6)\n",
      "pyplot.plot(xtheo, 1-voverVsquared, color='k', linestyle='--',linewidth=2)\n",
      "pyplot.legend(['upper', 'lower'], loc='best', prop={'size':14})\n",
      "pyplot.xlim(x_start, x_end)\n",
      "pyplot.ylim(y_start, y_end)\n",
      "pyplot.gca().invert_yaxis()\n",
      "pyplot.title('Doublet Panel Method - Number of panels : %d' % N);"
     ],
     "language": "python",
     "metadata": {},
     "outputs": [
      {
       "metadata": {},
       "output_type": "display_data",
       "png": "[encoded data removed]",
       "text": [
        "<matplotlib.figure.Figure at 0xfa82a58>"
       ]
      }
     ],
     "prompt_number": 26
    },
    {
     "cell_type": "markdown",
     "metadata": {},
     "source": [
      "Insert text ..."
     ]
    },
    {
     "cell_type": "heading",
     "level": 2,
     "metadata": {},
     "source": [
      "Comparison of the Accuracy of each Panel Method"
     ]
    },
    {
     "cell_type": "markdown",
     "metadata": {},
     "source": [
      "The NACA0012 airfoil in a uniform flow at zero angle of attack has a theoretical drag value of $D_t = 0$. The drag computed, D_c, using the different panel methods is computed for $N = 10, 20, 30, 40, 50, 100, 200, 500, 1000$ and compared to the theoretical value. The error is then defined as:\n",
      "\n",
      "\\begin{equation}\n",
      "\\Delta E = D_c - D_t = D_c\n",
      "\\end{equation}\n"
     ]
    },
    {
     "cell_type": "heading",
     "level": 5,
     "metadata": {},
     "source": [
      "Drag Functions"
     ]
    },
    {
     "cell_type": "markdown",
     "metadata": {},
     "source": [
      "A set of functions is defined to compute drag, $D_c$. One function is defined for each panel method, source, vortex and doublet. The only input to the function is the number of panels, $N$:"
     ]
    },
    {
     "cell_type": "heading",
     "level": 2,
     "metadata": {},
     "source": [
      "Conclusion"
     ]
    },
    {
     "cell_type": "markdown",
     "metadata": {},
     "source": [
      "Insert text ..."
     ]
    },
    {
     "cell_type": "heading",
     "level": 2,
     "metadata": {},
     "source": [
      "References"
     ]
    },
    {
     "cell_type": "markdown",
     "metadata": {},
     "source": [
      "1. [AeroPython Lessons](https://github.com/barbagroup/AeroPython), github repository containing class lessons.\n",
      "1. Ira Herbert Abbott, Albert Edward Von Doenhoff and Louis S. Stivers, Jr. (1945), \"Summary of Airfoil Data,\" NACA Report No.824, [PDF on the NASA web server](http://ntrs.nasa.gov/archive/nasa/casi.ntrs.nasa.gov/19930090976.pdf) (see p. 71) originally cited in [Lesson 10](https://github.com/barbagroup/AeroPython/blob/master/lessons/10_Lesson10_sourcePanelMethod.ipynb).\n",
      "1. Katz, Joseph, and Allen Plotkin. *Low Speed Aerodynamics*."
     ]
    },
    {
     "cell_type": "markdown",
     "metadata": {},
     "source": [
      "---"
     ]
    },
    {
     "cell_type": "heading",
     "level": 6,
     "metadata": {},
     "source": [
      "Please try the cell below to load notebook styling."
     ]
    },
    {
     "cell_type": "code",
     "collapsed": false,
     "input": [
      "from IPython.core.display import HTML\n",
      "def css_styling():\n",
      "    styles = open('../project/styles/custom.css', 'r').read()\n",
      "    return HTML(styles)\n",
      "css_styling()"
     ],
     "language": "python",
     "metadata": {},
     "outputs": [
      {
       "html": [
        "<link href='http://fonts.googleapis.com/css?family=Fenix' rel='stylesheet' type='text/css'>\n",
        "<link href='http://fonts.googleapis.com/css?family=Alegreya+Sans:100,300,400,500,700,800,900,100italic,300italic,400italic,500italic,700italic,800italic,900italic' rel='stylesheet' type='text/css'>\n",
        "<link href='http://fonts.googleapis.com/css?family=Source+Code+Pro:300,400' rel='stylesheet' type='text/css'>\n",
        "<style>\n",
        "\n",
        "@font-face {\n",
        "    font-family: \"Computer Modern\";\n",
        "    src: url('http://mirrors.ctan.org/fonts/cm-unicode/fonts/otf/cmunss.otf');\n",
        "}\n",
        "\n",
        "\n",
        "#notebook_panel { /* main background */\n",
        "    background: rgb(245,245,245);\n",
        "}\n",
        "\n",
        "div.cell { /* set cell width */\n",
        "    width: 750px;\n",
        "}\n",
        "\n",
        "div #notebook { /* centre the content */\n",
        "    background: #fff; /* white background for content */\n",
        "    width: 1000px;\n",
        "    margin: auto;\n",
        "    padding-left: 0em;\n",
        "}\n",
        "\n",
        "#notebook li { /* More space between bullet points */\n",
        "margin-top:0.8em;\n",
        "}\n",
        "\n",
        "/* draw border around running cells */\n",
        "div.cell.border-box-sizing.code_cell.running { \n",
        "    border: 1px solid #111;\n",
        "}\n",
        "\n",
        "/* Put a solid color box around each cell and its output, visually linking them*/\n",
        "div.cell.code_cell {\n",
        "    background-color: rgb(256,256,256); \n",
        "    border-radius: 0px; \n",
        "    padding: 0.5em;\n",
        "    margin-left:1em;\n",
        "    margin-top: 1em;\n",
        "}\n",
        "\n",
        "\n",
        "div.text_cell_render{\n",
        "    font-family: 'Alegreya Sans' sans-serif;\n",
        "    line-height: 140%;\n",
        "    font-size: 125%;\n",
        "    font-weight: 400;\n",
        "    width:600px;\n",
        "    margin-left:auto;\n",
        "    margin-right:auto;\n",
        "}\n",
        "\n",
        "/* Formatting for header cells */\n",
        ".text_cell_render h1 {\n",
        "    font-family: 'Alegreya Sans', sans-serif;\n",
        "    font-style:regular;\n",
        "    font-weight: 200;    \n",
        "    font-size: 50pt;\n",
        "    line-height: 100%;\n",
        "    color:#CD2305;\n",
        "    margin-bottom: 0.5em;\n",
        "    margin-top: 0.5em;\n",
        "    display: block;\n",
        "}\t\n",
        ".text_cell_render h2 {\n",
        "    font-family: 'Fenix', serif;\n",
        "    font-size: 22pt;\n",
        "    line-height: 100%;\n",
        "    margin-bottom: 0.1em;\n",
        "    margin-top: 0.3em;\n",
        "    display: block;\n",
        "}\t\n",
        "\n",
        ".text_cell_render h3 {\n",
        "    font-family: 'Fenix', serif;\n",
        "    margin-top:12px;\n",
        "\tfont-size: 16pt;\n",
        "    margin-bottom: 3px;\n",
        "    font-style: regular;\n",
        "}\n",
        "\n",
        ".text_cell_render h4 {    /*Use this for captions*/\n",
        "    font-family: 'Fenix', serif;\n",
        "    font-size: 2pt;\n",
        "    text-align: center;\n",
        "    margin-top: 0em;\n",
        "    margin-bottom: 2em;\n",
        "    font-style: regular;\n",
        "}\n",
        "\n",
        ".text_cell_render h5 {  /*Use this for small titles*/\n",
        "    font-family: 'Alegreya Sans', sans-serif;\n",
        "    font-weight: 300;\n",
        "    font-size: 16pt;\n",
        "    color: #CD2305;\n",
        "    font-style: italic;\n",
        "    margin-bottom: .5em;\n",
        "    margin-top: 0.5em;\n",
        "    display: block;\n",
        "}\n",
        "\n",
        ".text_cell_render h6 { /*use this for copyright note*/\n",
        "    font-family: 'Source Code Pro', sans-serif;\n",
        "    font-weight: 300;\n",
        "    font-size: 9pt;\n",
        "    line-height: 100%;\n",
        "    color: grey;\n",
        "    margin-bottom: 1px;\n",
        "    margin-top: 1px;\n",
        "}\n",
        "\n",
        "    .CodeMirror{\n",
        "            font-family: \"Source Code Pro\";\n",
        "\t\t\tfont-size: 90%;\n",
        "    }\n",
        "/*    .prompt{\n",
        "        display: None;\n",
        "    }*/\n",
        "\t\n",
        "    \n",
        "    .warning{\n",
        "        color: rgb( 240, 20, 20 )\n",
        "        }  \n",
        "</style>\n",
        "<script>\n",
        "    MathJax.Hub.Config({\n",
        "                        TeX: {\n",
        "                           extensions: [\"AMSmath.js\"], \n",
        "                           equationNumbers: { autoNumber: \"AMS\", useLabelIds: true}\n",
        "                           },\n",
        "                tex2jax: {\n",
        "                    inlineMath: [ ['$','$'], [\"\\\\(\",\"\\\\)\"] ],\n",
        "                    displayMath: [ ['$$','$$'], [\"\\\\[\",\"\\\\]\"] ]\n",
        "                },\n",
        "                displayAlign: 'center', // Change this to 'center' to center equations.\n",
        "                \"HTML-CSS\": {\n",
        "                    styles: {'.MathJax_Display': {\"margin\": 4}}\n",
        "                }\n",
        "        });\n",
        "</script>\n"
       ],
       "metadata": {},
       "output_type": "pyout",
       "prompt_number": 7,
       "text": [
        "<IPython.core.display.HTML at 0x3acf588>"
       ]
      }
     ],
     "prompt_number": 7
    }
   ],
   "metadata": {}
  }
 ]
}